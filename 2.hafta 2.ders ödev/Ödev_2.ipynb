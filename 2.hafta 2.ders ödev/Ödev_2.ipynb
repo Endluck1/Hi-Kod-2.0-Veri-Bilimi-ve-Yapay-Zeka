{
  "nbformat": 4,
  "nbformat_minor": 0,
  "metadata": {
    "colab": {
      "provenance": []
    },
    "kernelspec": {
      "name": "python3",
      "display_name": "Python 3"
    },
    "language_info": {
      "name": "python"
    }
  },
  "cells": [
    {
      "cell_type": "code",
      "execution_count": null,
      "metadata": {
        "id": "Fhaw1LvDv-Gm",
        "outputId": "d9d962e3-96df-4338-d291-10b8781419ca",
        "colab": {
          "base_uri": "https://localhost:8080/"
        }
      },
      "outputs": [
        {
          "output_type": "stream",
          "name": "stdout",
          "text": [
            "['elma', 'armut', 'kiraz', 'çilek', 'karpuz']\n"
          ]
        }
      ],
      "source": [
        "# Verilen listedeki string öğeleri yeni_liste'ye eklemek\n",
        "verilen_liste = [\"elma\", \"armut\", \"kiraz\", \"çilek\", \"karpuz\"]\n",
        "yeni_liste = []\n",
        "\n",
        "for indeks, eleman in enumerate(verilen_liste):\n",
        "    if isinstance(eleman, str):\n",
        "        yeni_liste.append(eleman)\n",
        "\n",
        "print(yeni_liste)\n",
        "\n",
        "# Öğrenci notları sözlüğü oluşturmak\n",
        "ogrenci_notlari = {\n",
        "    \"Ali\": {\"Matematik\": 85, \"Fizik\": 75, \"Kimya\": 90},\n",
        "    \"Ayşe\": {\"Matematik\": 70, \"Fizik\": 80, \"Kimya\": 95},\n",
        "    \"Mehmet\": {\"Matematik\": 95, \"Fizik\": 88, \"Kimya\": 78},\n",
        "    \"Zeynep\": {\"Matematik\": 60, \"Fizik\": 70, \"Kimya\": 85}\n",
        "}\n",
        "\n",
        "# Kullanıcıdan isim ve ders adı almak\n",
        "ogrenci_adi = input(\"Öğrenci adını girin: \")\n",
        "ders_adi = input(\"Ders adını girin (Matematik, Fizik veya Kimya): \")\n",
        "\n",
        "# Bilgilere göre çıktı vermek\n",
        "if ogrenci_adi in ogrenci_notlari and ders_adi in ogrenci_notlari[ogrenci_adi]:\n",
        "    notu = ogrenci_notlari[ogrenci_adi][ders_adi]\n",
        "    print(f\"{ogrenci_adi} adlı öğrencinin {ders_adi} notu: {notu}\")\n",
        "else:\n",
        "    print(\"Öğrenci adı veya ders adı geçersiz.\")\n"
      ]
    }
  ]
}