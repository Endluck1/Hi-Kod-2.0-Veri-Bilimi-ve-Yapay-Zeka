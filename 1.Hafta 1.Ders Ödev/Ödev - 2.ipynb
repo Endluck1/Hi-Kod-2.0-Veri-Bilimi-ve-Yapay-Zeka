{
 "cells": [
  {
   "cell_type": "code",
   "execution_count": 1,
   "id": "84d4ee35",
   "metadata": {},
   "outputs": [
    {
     "name": "stdout",
     "output_type": "stream",
     "text": [
      "Sonuç: True\n"
     ]
    }
   ],
   "source": [
    "# Üç değişken ve yaş değerleri\n",
    "yas1 = 25\n",
    "yas2 = 30\n",
    "yas3 = 35\n",
    "\n",
    "# Karşılaştırma operatörleri kullanımı\n",
    "karsilastirma1 = yas1 < yas2\n",
    "karsilastirma2 = yas1 == yas3\n",
    "karsilastirma3 = yas2 > yas3\n",
    "\n",
    "# Mantıksal operatörler kullanımı\n",
    "sonuc = karsilastirma1 or (karsilastirma2 and not karsilastirma3)\n",
    "\n",
    "# Sonucu yazdırma\n",
    "print(\"Sonuç:\", sonuc)\n"
   ]
  },
  {
   "cell_type": "code",
   "execution_count": null,
   "id": "6718a731",
   "metadata": {},
   "outputs": [],
   "source": []
  }
 ],
 "metadata": {
  "kernelspec": {
   "display_name": "Python 3 (ipykernel)",
   "language": "python",
   "name": "python3"
  },
  "language_info": {
   "codemirror_mode": {
    "name": "ipython",
    "version": 3
   },
   "file_extension": ".py",
   "mimetype": "text/x-python",
   "name": "python",
   "nbconvert_exporter": "python",
   "pygments_lexer": "ipython3",
   "version": "3.9.7"
  }
 },
 "nbformat": 4,
 "nbformat_minor": 5
}
