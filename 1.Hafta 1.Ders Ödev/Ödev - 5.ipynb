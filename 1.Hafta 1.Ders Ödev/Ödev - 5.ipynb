{
 "cells": [
  {
   "cell_type": "code",
   "execution_count": 1,
   "id": "93957504",
   "metadata": {},
   "outputs": [
    {
     "name": "stdout",
     "output_type": "stream",
     "text": [
      "Büyük Harf Metin: HI-KOD VERI BILIMI ATÖLYESI\n",
      "Tüm Metin Büyük Harf: HI-KOD VERI BILIMI ATÖLYESI\n",
      "Çift Sayılar: 02468\n",
      "Tek Sayılar: 13579\n"
     ]
    }
   ],
   "source": [
    "# Metni bir değişkene tanımla\n",
    "metin = \"Hi-Kod Veri Bilimi Atölyesi\"\n",
    "\n",
    "# Kelimeleri ayır ve büyük harfe çevir\n",
    "kelimeler = metin.split()\n",
    "buyuk_harf_metin = \" \".join(word.upper() for word in kelimeler)\n",
    "\n",
    "# Tüm metni büyük harfe çevir\n",
    "buyuk_harf_tum_metin = metin.upper()\n",
    "\n",
    "# Yalnızca çift ve tek sayıları seç\n",
    "sayi_metin = \"0123456789\"\n",
    "cift_sayilar = \"\".join(sayi for sayi in sayi_metin if int(sayi) % 2 == 0)\n",
    "tek_sayilar = \"\".join(sayi for sayi in sayi_metin if int(sayi) % 2 != 0)\n",
    "\n",
    "# Sonuçları yazdırma\n",
    "print(\"Büyük Harf Metin:\", buyuk_harf_metin)\n",
    "print(\"Tüm Metin Büyük Harf:\", buyuk_harf_tum_metin)\n",
    "print(\"Çift Sayılar:\", cift_sayilar)\n",
    "print(\"Tek Sayılar:\", tek_sayilar)\n"
   ]
  },
  {
   "cell_type": "code",
   "execution_count": null,
   "id": "8702c15c",
   "metadata": {},
   "outputs": [],
   "source": []
  }
 ],
 "metadata": {
  "kernelspec": {
   "display_name": "Python 3 (ipykernel)",
   "language": "python",
   "name": "python3"
  },
  "language_info": {
   "codemirror_mode": {
    "name": "ipython",
    "version": 3
   },
   "file_extension": ".py",
   "mimetype": "text/x-python",
   "name": "python",
   "nbconvert_exporter": "python",
   "pygments_lexer": "ipython3",
   "version": "3.9.7"
  }
 },
 "nbformat": 4,
 "nbformat_minor": 5
}
