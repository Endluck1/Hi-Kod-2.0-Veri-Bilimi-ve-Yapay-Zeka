{
 "cells": [
  {
   "cell_type": "code",
   "execution_count": null,
   "id": "0f9de4cf",
   "metadata": {},
   "outputs": [],
   "source": [
    "# Kullanıcıdan bilgileri alın\n",
    "isim = input(\"İsminiz: \")\n",
    "yas = input(\"Yaşınız: \")\n",
    "sehir = input(\"Şehir: \")\n",
    "meslek = input(\"Meslek: \")\n",
    "\n",
    "# Bilgileri yazdırma\n",
    "print(\"İsim:\", isim)\n",
    "print(\"Yaş:\", yas)\n",
    "print(\"Şehir:\", sehir)\n",
    "print(\"Meslek:\", meslek)\n"
   ]
  }
 ],
 "metadata": {
  "kernelspec": {
   "display_name": "Python 3 (ipykernel)",
   "language": "python",
   "name": "python3"
  },
  "language_info": {
   "codemirror_mode": {
    "name": "ipython",
    "version": 3
   },
   "file_extension": ".py",
   "mimetype": "text/x-python",
   "name": "python",
   "nbconvert_exporter": "python",
   "pygments_lexer": "ipython3",
   "version": "3.9.7"
  }
 },
 "nbformat": 4,
 "nbformat_minor": 5
}
