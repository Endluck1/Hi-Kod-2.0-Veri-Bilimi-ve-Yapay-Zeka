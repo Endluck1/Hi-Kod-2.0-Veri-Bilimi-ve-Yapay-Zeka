{
 "cells": [
  {
   "cell_type": "code",
   "execution_count": 1,
   "id": "435e9a58",
   "metadata": {},
   "outputs": [
    {
     "name": "stdout",
     "output_type": "stream",
     "text": [
      "sayi_str: 42\n",
      "ondalik_sayi_int: 3\n",
      "metin_liste: ['M', 'e', 'r', 'h', 'a', 'b', 'a', ',', ' ', 'D', 'ü', 'n', 'y', 'a', '!']\n"
     ]
    }
   ],
   "source": [
    "# Değişkenlere atanmış değerler\n",
    "sayi = 42\n",
    "ondalik_sayi = 3.14\n",
    "metin = \"Merhaba, Dünya!\"\n",
    "\n",
    "# Veri türü dönüşümü\n",
    "sayi_str = str(sayi)\n",
    "ondalik_sayi_int = int(ondalik_sayi)\n",
    "metin_liste = list(metin)\n",
    "\n",
    "# Sonuçları yazdırma\n",
    "print(\"sayi_str:\", sayi_str)\n",
    "print(\"ondalik_sayi_int:\", ondalik_sayi_int)\n",
    "print(\"metin_liste:\", metin_liste)\n"
   ]
  },
  {
   "cell_type": "code",
   "execution_count": null,
   "id": "7f26432b",
   "metadata": {},
   "outputs": [],
   "source": []
  }
 ],
 "metadata": {
  "kernelspec": {
   "display_name": "Python 3 (ipykernel)",
   "language": "python",
   "name": "python3"
  },
  "language_info": {
   "codemirror_mode": {
    "name": "ipython",
    "version": 3
   },
   "file_extension": ".py",
   "mimetype": "text/x-python",
   "name": "python",
   "nbconvert_exporter": "python",
   "pygments_lexer": "ipython3",
   "version": "3.9.7"
  }
 },
 "nbformat": 4,
 "nbformat_minor": 5
}
