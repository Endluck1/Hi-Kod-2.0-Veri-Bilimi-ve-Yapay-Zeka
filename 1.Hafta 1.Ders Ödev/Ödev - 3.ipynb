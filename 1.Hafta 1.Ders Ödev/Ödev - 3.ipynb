{
 "cells": [
  {
   "cell_type": "code",
   "execution_count": 1,
   "id": "e7cd6851",
   "metadata": {},
   "outputs": [
    {
     "name": "stdout",
     "output_type": "stream",
     "text": [
      "Birinci sayıyı girin: 10\n",
      "İkinci sayıyı girin: 5\n",
      "Toplam: 15.0\n",
      "Çıkarma: 5.0\n",
      "Çarpma: 50.0\n",
      "Bölme: 2.0\n"
     ]
    }
   ],
   "source": [
    "# Kullanıcıdan iki değeri alın\n",
    "sayi1 = float(input(\"Birinci sayıyı girin: \"))\n",
    "sayi2 = float(input(\"İkinci sayıyı girin: \"))\n",
    "\n",
    "# Toplama, çıkarma, çarpma ve bölme işlemleri\n",
    "toplam = sayi1 + sayi2\n",
    "cikarma = sayi1 - sayi2\n",
    "carpma = sayi1 * sayi2\n",
    "bolme = sayi1 / sayi2\n",
    "\n",
    "# Sonuçları yazdırma\n",
    "print(\"Toplam:\", toplam)\n",
    "print(\"Çıkarma:\", cikarma)\n",
    "print(\"Çarpma:\", carpma)\n",
    "print(\"Bölme:\", bolme)\n"
   ]
  },
  {
   "cell_type": "code",
   "execution_count": null,
   "id": "f93b1245",
   "metadata": {},
   "outputs": [],
   "source": []
  }
 ],
 "metadata": {
  "kernelspec": {
   "display_name": "Python 3 (ipykernel)",
   "language": "python",
   "name": "python3"
  },
  "language_info": {
   "codemirror_mode": {
    "name": "ipython",
    "version": 3
   },
   "file_extension": ".py",
   "mimetype": "text/x-python",
   "name": "python",
   "nbconvert_exporter": "python",
   "pygments_lexer": "ipython3",
   "version": "3.9.7"
  }
 },
 "nbformat": 4,
 "nbformat_minor": 5
}
